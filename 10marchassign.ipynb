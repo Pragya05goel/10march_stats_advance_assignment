{
 "cells": [
  {
   "cell_type": "markdown",
   "id": "18bed346-a007-487b-9c1b-9622e5be0427",
   "metadata": {},
   "source": [
    "# **ASSIGNMENT**"
   ]
  },
  {
   "cell_type": "markdown",
   "id": "c809a9c5-dc6e-41a4-a398-9d341ca90506",
   "metadata": {},
   "source": [
    "**Q1: What is Estimation Statistics? Explain point estimate and interval estimate.<br>**"
   ]
  },
  {
   "cell_type": "markdown",
   "id": "91b0389c-7403-46d0-95bc-49d8cd1de5be",
   "metadata": {},
   "source": [
    "Estimation statistics refers to the branch of statistics that deals with estimating unknown population parameters based on sample data. It involves using sample statistics to make inferences or draw conclusions about the population parameters.\n",
    "\n",
    "Point Estimate:\n",
    "A point estimate is a single numerical value that is used to estimate an unknown population parameter. It is calculated based on sample data and is often denoted by a symbol such as \"x̄\" (for the sample mean) or \"p̂\" (for the sample proportion). Point estimates provide a best guess or approximation of the population parameter, but they do not provide information about the uncertainty or variability associated with the estimate.\n",
    "\n",
    "Interval Estimate:\n",
    "An interval estimate, also known as a confidence interval, provides a range of values within which the population parameter is likely to fall. It takes into account the variability of the sample data and provides a measure of the uncertainty associated with the estimate. An interval estimate is typically represented as a range of values with an associated level of confidence, such as a 95% confidence interval. This means that if we were to repeat the sampling process many times and construct confidence intervals, approximately 95% of those intervals would contain the true population parameter.\n",
    "\n",
    "Interval estimates provide more information than point estimates because they give a sense of the precision or accuracy of the estimate. The width of the interval reflects the level of uncertainty in the estimation process. Wider intervals indicate higher uncertainty, while narrower intervals indicate greater precision."
   ]
  },
  {
   "cell_type": "markdown",
   "id": "20c61c2e-3cb9-48c8-babe-b797f396face",
   "metadata": {},
   "source": [
    "**Q2. Write a Python function to estimate the population mean using a sample mean and standard\n",
    "deviation.<br>**"
   ]
  },
  {
   "cell_type": "code",
   "execution_count": 1,
   "id": "cf2a686c-2dce-4638-aa3e-2467b3d0f533",
   "metadata": {},
   "outputs": [],
   "source": [
    "import scipy,statistics,math"
   ]
  },
  {
   "cell_type": "code",
   "execution_count": 2,
   "id": "ebda9653-073c-47f5-b283-14d02624533e",
   "metadata": {},
   "outputs": [],
   "source": [
    "def estimate_population_mean(sample_mean,std_deviation,sample_size,confidence_level=0.95):\n",
    "    z_score=1.96\n",
    "    lower_bound=sample_mean-((z_score*std_deviation)/math.sqrt(sample_size))\n",
    "    upper_bound=sample_mean+((z_score*std_deviation)/math.sqrt(sample_size))\n",
    "    \n",
    "    return sample_mean,(lower_boundo,upper_bound)"
   ]
  },
  {
   "cell_type": "markdown",
   "id": "b70aec51-6054-43c4-95c6-41db8143685a",
   "metadata": {},
   "source": [
    "**Q3: What is Hypothesis testing? Why is it used? State the importance of Hypothesis testing.<br>**"
   ]
  },
  {
   "cell_type": "markdown",
   "id": "20481552-5648-411e-8ea4-4575cb7f8a51",
   "metadata": {},
   "source": [
    "Hypothesis testing is a statistical procedure used to make inferences or draw conclusions about a population based on sample data. It involves formulating two competing hypotheses, the null hypothesis (H0) and the alternative hypothesis (Ha), and then collecting and analyzing data to determine the likelihood of each hypothesis.\n",
    "\n",
    "The null hypothesis (H0) represents the default or assumed position, often stating that there is no significant difference or relationship between variables in the population. The alternative hypothesis (Ha) contradicts or challenges the null hypothesis, suggesting that there is a significant difference or relationship.\n",
    "\n",
    "Hypothesis testing is used to assess the evidence in the sample data and make a decision regarding the validity of the null hypothesis. The process involves calculating a test statistic based on the sample data and comparing it to a critical value or p-value. The critical value determines the threshold at which the null hypothesis is rejected, while the p-value indicates the probability of observing the sample data under the assumption that the null hypothesis is true.\n",
    "\n",
    "The importance of hypothesis testing lies in its ability to provide a structured and objective approach to making statistical inferences. Here are some key reasons why hypothesis testing is important:\n",
    "\n",
    "1. Evidence-Based Decision Making: Hypothesis testing allows researchers and decision-makers to make conclusions based on evidence from the sample data. By assessing the strength of evidence against the null hypothesis, it helps in making informed decisions and drawing reliable conclusions about the population.\n",
    "\n",
    "2. Scientific Validity: Hypothesis testing is an essential component of the scientific method. It provides a rigorous framework to evaluate theories and hypotheses, ensuring that claims and findings are supported by empirical evidence.\n",
    "\n",
    "3. Quality Control and Process Improvement: Hypothesis testing is widely used in fields such as manufacturing, healthcare, and business to assess process performance, compare groups, and identify areas for improvement. It helps in identifying and addressing issues, enhancing quality control procedures, and optimizing processes.\n",
    "\n",
    "4. Statistical Inference: Hypothesis testing enables generalizations to be made about the larger population based on sample data. It provides a way to estimate population parameters, assess relationships between variables, and uncover patterns or differences of practical significance.\n",
    "\n",
    "5. Objective and Reproducible Results: Hypothesis testing provides a systematic and standardized approach to statistical analysis. It allows researchers to communicate and replicate their findings, ensuring transparency and reproducibility in scientific research.\n",
    "\n",
    "Overall, hypothesis testing is crucial for making sound decisions, validating research findings, improving processes, and advancing scientific knowledge by providing a framework for statistical inference and evidence-based conclusions."
   ]
  },
  {
   "cell_type": "markdown",
   "id": "7802a31a-a97d-46a9-9000-9e2613901f05",
   "metadata": {},
   "source": [
    "**Q4. Create a hypothesis that states whether the average weight of male college students is greater than\n",
    "the average weight of female college students.<br>**"
   ]
  },
  {
   "cell_type": "markdown",
   "id": "ebcc03c3-530b-4d41-ab93-a5d775a2bc6f",
   "metadata": {},
   "source": [
    "Hypothesis:\n",
    "The average weight of male college students is greater than the average weight of female college students.\n",
    "\n",
    "To formally state this hypothesis, we can use the following notation:\n",
    "\n",
    "Null Hypothesis (H0):\n",
    "The average weight of male college students is equal to or less than the average weight of female college students.\n",
    "\n",
    "Alternative Hypothesis (Ha):\n",
    "The average weight of male college students is greater than the average weight of female college students.\n",
    "\n",
    "Symbolically, this can be represented as:\n",
    "\n",
    "H0: μm ≤ μf\n",
    "Ha: μm > μf\n",
    "\n",
    "Where:\n",
    "H0 represents the null hypothesis,\n",
    "Ha represents the alternative hypothesis,\n",
    "μm represents the average weight of male college students,\n",
    "and μf represents the average weight of female college students.\n",
    "\n",
    "In this hypothesis, we are testing whether there is a significant difference in the average weight between male and female college students, with the alternative hypothesis suggesting that males have a higher average weight. The null hypothesis assumes that there is no significant difference or that females may have a higher average weight."
   ]
  },
  {
   "cell_type": "markdown",
   "id": "3e345c58-91af-4bdd-afac-332fd4b8719f",
   "metadata": {},
   "source": [
    "**Q5. Write a Python script to conduct a hypothesis test on the difference between two population means,\n",
    "given a sample from each population.<br>**"
   ]
  },
  {
   "cell_type": "code",
   "execution_count": 3,
   "id": "149baea2-ab4a-4e2a-bc48-8a40d55d0238",
   "metadata": {},
   "outputs": [
    {
     "name": "stdout",
     "output_type": "stream",
     "text": [
      "Reject Null Hypothesis\n",
      "t_value -10.0\n",
      "p_value 8.4881815276285e-06\n"
     ]
    }
   ],
   "source": [
    "import numpy as np\n",
    "from scipy import stats\n",
    "\n",
    "sample_1=np.array([1,2,3,4,5])\n",
    "sample_2=np.array([11,12,13,14,15])\n",
    "alpha=0.05\n",
    "\n",
    "t_value,p_value=stats.ttest_ind(sample_1,sample_2)\n",
    "\n",
    "if(p_value<alpha):\n",
    "    print(\"Reject Null Hypothesis\")\n",
    "else:\n",
    "    print(\"Fail to reject Null Hypothesis\")\n",
    "    \n",
    "print(\"t_value\",t_value)\n",
    "print(\"p_value\",p_value)"
   ]
  },
  {
   "cell_type": "markdown",
   "id": "700ed01c-0550-4781-b81c-c20a3ea4ea71",
   "metadata": {},
   "source": [
    "**Q6: What is a null and alternative hypothesis? Give some examples.**"
   ]
  },
  {
   "cell_type": "markdown",
   "id": "12d99731-ed45-4b40-8416-16d40d31035c",
   "metadata": {},
   "source": [
    "In statistics, the null hypothesis (H0) and alternative hypothesis (Ha) are two competing statements about a population parameter or the relationship between variables. These hypotheses are used to make inferences and draw conclusions from data. Here are some examples of null and alternative hypotheses:\n",
    "\n",
    "1. Example for a population mean:\n",
    "   - Null hypothesis (H0): The average weight of a certain breed of dogs is 25 kilograms.\n",
    "   - Alternative hypothesis (Ha): The average weight of a certain breed of dogs is not equal to 25 kilograms.\n",
    "\n",
    "2. Example for a population proportion:\n",
    "   - Null hypothesis (H0): The proportion of adults who own a smartphone is 0.6.\n",
    "   - Alternative hypothesis (Ha): The proportion of adults who own a smartphone is different from 0.6.\n",
    "\n",
    "3. Example for a difference between two population means:\n",
    "   - Null hypothesis (H0): There is no difference in the mean test scores between students who receive tutoring and those who do not.\n",
    "   - Alternative hypothesis (Ha): There is a difference in the mean test scores between students who receive tutoring and those who do not.\n",
    "\n",
    "4. Example for a correlation between variables:\n",
    "   - Null hypothesis (H0): There is no correlation between a person's age and their income level.\n",
    "   - Alternative hypothesis (Ha): There is a correlation between a person's age and their income level.\n",
    "\n",
    "5. Example for a difference between two population proportions:\n",
    "   - Null hypothesis (H0): The proportion of people who prefer brand A over brand B is the same as the proportion who prefer brand B over brand A.\n",
    "   - Alternative hypothesis (Ha): The proportion of people who prefer brand A over brand B is different from the proportion who prefer brand B over brand A.\n",
    "\n",
    "In hypothesis testing, the goal is to gather evidence from the sample data to either reject the null hypothesis in favor of the alternative hypothesis or fail to reject the null hypothesis due to insufficient evidence."
   ]
  },
  {
   "cell_type": "markdown",
   "id": "c767c9c5-da4b-46c7-9269-98bc93b13ecc",
   "metadata": {},
   "source": [
    "**Q7: Write down the steps involved in hypothesis testing.**"
   ]
  },
  {
   "cell_type": "markdown",
   "id": "5778f5b7-6bc1-44f3-8a06-66039289c883",
   "metadata": {},
   "source": [
    "Hypothesis testing involves a series of steps to make statistical inferences and draw conclusions about population parameters or relationships between variables.The general steps involved in hypothesis testing are:\n",
    "\n",
    "1. State the hypotheses:\n",
    "   - Null hypothesis (H0): This is the default assumption or the hypothesis of no effect or no difference.\n",
    "   - Alternative hypothesis (Ha): This is the hypothesis that contradicts or opposes the null hypothesis, representing the effect or difference you are interested in.\n",
    "\n",
    "2. Set the significance level (α):\n",
    "   - The significance level (also known as the alpha level) determines the threshold for deciding whether to reject the null hypothesis.\n",
    "   - Commonly used values for α are 0.05 (5%) and 0.01 (1%).\n",
    "\n",
    "3. Collect and analyze the data:\n",
    "   - Gather relevant data through sampling or experimentation.\n",
    "   - Perform exploratory data analysis to understand the characteristics of the data and check for any outliers or anomalies.\n",
    "\n",
    "4. Choose an appropriate statistical test:\n",
    "   - Select a statistical test based on the type of data, study design, and research question.\n",
    "   - Common tests include t-tests, chi-square tests, ANOVA, correlation analysis, etc.\n",
    "\n",
    "5. Compute the test statistic:\n",
    "   - Calculate the test statistic based on the chosen statistical test and the data.\n",
    "   - The test statistic measures the difference or effect observed in the data relative to what would be expected under the null hypothesis.\n",
    "\n",
    "6. Determine the p-value:\n",
    "   - The p-value is the probability of observing the test statistic (or more extreme) assuming that the null hypothesis is true.\n",
    "   - It indicates the strength of evidence against the null hypothesis.\n",
    "   - A smaller p-value suggests stronger evidence against the null hypothesis.\n",
    "\n",
    "7. Compare the p-value to the significance level:\n",
    "   - If the p-value is less than the significance level (p-value < α), reject the null hypothesis.\n",
    "   - If the p-value is greater than or equal to the significance level (p-value ≥ α), fail to reject the null hypothesis.\n",
    "\n",
    "8. Interpret the results:\n",
    "   - If the null hypothesis is rejected, conclude that there is sufficient evidence to support the alternative hypothesis.\n",
    "   - If the null hypothesis is not rejected, acknowledge that there is not enough evidence to support the alternative hypothesis.\n",
    "\n",
    "9. Consider effect size and confidence intervals:\n",
    "   - Effect size measures the practical significance of the result.\n",
    "   - Confidence intervals provide a range of plausible values for the population parameter of interest.\n",
    "\n",
    "10. Report the findings:\n",
    "    - Communicate the results, including the conclusions drawn from the hypothesis test, effect size, confidence intervals, and any limitations or assumptions made during the analysis.\n",
    "\n"
   ]
  },
  {
   "cell_type": "markdown",
   "id": "69d1a000-6754-4535-9ec2-611c180885af",
   "metadata": {},
   "source": [
    "**Q8. Define p-value and explain its significance in hypothesis testing.**"
   ]
  },
  {
   "cell_type": "markdown",
   "id": "7304e079-f36f-44a2-8782-af14d37b7de9",
   "metadata": {},
   "source": [
    "In hypothesis testing, the p-value is a measure of the strength of evidence against the null hypothesis. It quantifies the probability of obtaining the observed data (or more extreme) under the assumption that the null hypothesis is true. The p-value helps determine whether the observed results are statistically significant or occurred by chance.\n",
    "\n",
    "Some key points about the p-value and its significance in hypothesis testing are:\n",
    "\n",
    "1. Range and interpretation: The p-value ranges between 0 and 1. A smaller p-value indicates stronger evidence against the null hypothesis. A common threshold for significance is a p-value of 0.05 (5%). If the p-value is below this threshold, the results are considered statistically significant.\n",
    "\n",
    "2. Decision-making: When conducting hypothesis testing, the p-value is compared to the predetermined significance level (α). If the p-value is less than α, the null hypothesis is rejected in favor of the alternative hypothesis. If the p-value is greater than or equal to α, the null hypothesis is not rejected.\n",
    "\n",
    "3. Relationship with significance level: The significance level (α) is the probability of rejecting the null hypothesis when it is true. By setting the significance level before conducting the test, you determine the threshold for what is considered statistically significant. The p-value indicates whether the observed results fall below this threshold.\n",
    "\n",
    "4. Strength of evidence: The p-value provides a measure of the strength of evidence against the null hypothesis. A smaller p-value suggests stronger evidence against the null hypothesis and supports the alternative hypothesis.\n",
    "\n",
    "5. Not a measure of effect size or practical significance: The p-value does not directly indicate the magnitude or practical importance of the observed effect. It solely assesses the statistical evidence against the null hypothesis. Effect size measures, such as Cohen's d or correlation coefficients, should be used to evaluate the practical significance of the observed effect.\n",
    "\n",
    "6. Replicability: The p-value alone does not determine the validity or replicability of the results. It indicates the likelihood of observing the data under the null hypothesis. Replication studies and considering other evidence are essential for establishing the reliability of findings.\n",
    "\n"
   ]
  },
  {
   "cell_type": "markdown",
   "id": "736a5dd5-0066-44c5-9777-736a95cace6e",
   "metadata": {},
   "source": [
    "**Q9. Generate a Student's t-distribution plot using Python's matplotlib library, with the degrees of freedom parameter set to 10.**"
   ]
  },
  {
   "cell_type": "code",
   "execution_count": 4,
   "id": "bc5d0501-9a4b-45b7-a950-96805f2653f6",
   "metadata": {},
   "outputs": [],
   "source": [
    "import numpy as np\n",
    "import matplotlib.pyplot as plt\n",
    "from scipy.stats import t\n"
   ]
  },
  {
   "cell_type": "code",
   "execution_count": 5,
   "id": "cbbe6026-1a25-4bc8-b969-c2ddf3c70799",
   "metadata": {},
   "outputs": [],
   "source": [
    "x=np.linspace(-10,10,num=10)"
   ]
  },
  {
   "cell_type": "code",
   "execution_count": 6,
   "id": "0cccdf96-1f94-41dd-86a7-104fdffd7357",
   "metadata": {},
   "outputs": [],
   "source": [
    "pdf=t.pdf(x,df=10)"
   ]
  },
  {
   "cell_type": "code",
   "execution_count": 7,
   "id": "282aac47-22e8-4fdc-97c6-2913c9de6488",
   "metadata": {},
   "outputs": [
    {
     "data": {
      "text/plain": [
       "Text(0.5, 1.0, 'Students t-distribution')"
      ]
     },
     "execution_count": 7,
     "metadata": {},
     "output_type": "execute_result"
    },
    {
     "data": {
      "image/png": "[encoded data removed]",
      "text/plain": [
       "<Figure size 640x480 with 1 Axes>"
      ]
     },
     "metadata": {},
     "output_type": "display_data"
    }
   ],
   "source": [
    "plt.plot(x,pdf)\n",
    "plt.xlabel(\"Value of x\")\n",
    "plt.ylabel(\"Pdf\")\n",
    "plt.title(\"Students t-distribution\")"
   ]
  },
  {
   "cell_type": "markdown",
   "id": "81bf1a8b-d6bc-4ff3-9bf5-ab1cbcb0cf53",
   "metadata": {},
   "source": [
    "**Q10. Write a Python program to calculate the two-sample t-test for independent samples, given two random samples of equal size and a null hypothesis that the population means are equal.**"
   ]
  },
  {
   "cell_type": "code",
   "execution_count": 8,
   "id": "1a87ef4d-d90f-4c9f-b851-8f77938dc935",
   "metadata": {},
   "outputs": [],
   "source": [
    "from scipy import stats\n",
    "from scipy.stats import t"
   ]
  },
  {
   "cell_type": "code",
   "execution_count": 9,
   "id": "5d1bf561-add0-49f1-8314-fa27d4b89489",
   "metadata": {},
   "outputs": [],
   "source": [
    "sample1=np.array([1,2,3,2,1])\n",
    "sample2=np.array([101,102,103,102,101])"
   ]
  },
  {
   "cell_type": "code",
   "execution_count": 10,
   "id": "98efcaba-b95a-41c1-a9db-67353c152e81",
   "metadata": {},
   "outputs": [],
   "source": [
    "def two_sample_test(sample1,sample2,alpha):\n",
    "    mean1=np.mean(sample1)\n",
    "    mean2=np.mean(sample2)\n",
    "    std1=np.std(sample1)\n",
    "    std2=np.std(sample2)\n",
    "    tvalue,pvalue=stats.ttest_ind_from_stats(mean1=mean1,std1=std1,nobs1=sample1.size,mean2=mean2,std2=std2,nobs2=sample2.size)\n",
    "    \n",
    "    if(pvalue<alpha):\n",
    "        print(\"Reject Null Hypothesis\")\n",
    "    else:\n",
    "        print(\"Fail to reject Null Hypothesis\")\n",
    "    \n",
    "    return (tvalue,pvalue)"
   ]
  },
  {
   "cell_type": "code",
   "execution_count": 11,
   "id": "84594974-1c4a-4a89-a4fc-db3f013ec0a2",
   "metadata": {},
   "outputs": [
    {
     "name": "stdout",
     "output_type": "stream",
     "text": [
      "Reject Null Hypothesis\n"
     ]
    },
    {
     "data": {
      "text/plain": [
       "(-211.28856368212914, 2.817928364918259e-16)"
      ]
     },
     "execution_count": 11,
     "metadata": {},
     "output_type": "execute_result"
    }
   ],
   "source": [
    "two_sample_test(sample1,sample2,0.05)"
   ]
  },
  {
   "cell_type": "markdown",
   "id": "0f599260-399b-4692-b98e-e22f32bb82d2",
   "metadata": {},
   "source": [
    "**Q11: What is Student’s t distribution? When to use the t-Distribution.**"
   ]
  },
  {
   "cell_type": "markdown",
   "id": "1dd7e1ac-90e3-4365-9a29-681b0f223b96",
   "metadata": {},
   "source": [
    "The Student's t-distribution, often referred to as the t-distribution, is a probability distribution that is used in statistical inference when the sample size is small and the population standard deviation is unknown. It is a mathematical distribution that is similar in shape to the standard normal distribution (bell-shaped curve), but with thicker tails.\n",
    "\n",
    "The t-distribution is characterized by a parameter called degrees of freedom (df), which determines its shape. As the degrees of freedom increase, the t-distribution approaches the standard normal distribution. For practical purposes, the t-distribution is symmetric and bell-shaped, with a mean of 0.\n",
    "\n",
    "The t-distribution is used in various situations, including:\n",
    "\n",
    "1. Small sample sizes: When working with small sample sizes, the t-distribution is used to estimate population parameters (such as the mean) and conduct hypothesis tests. It accounts for the additional uncertainty introduced by having fewer observations.\n",
    "\n",
    "2. Unknown population standard deviation: In situations where the population standard deviation is unknown, the t-distribution is used instead of the normal distribution. The standard deviation is estimated from the sample, and the t-distribution accounts for the uncertainty in this estimation.\n",
    "\n",
    "3. Hypothesis testing: The t-distribution is commonly used when performing hypothesis tests on the difference between population means, such as independent samples t-test or paired samples t-test. It provides the critical values and p-values necessary for making conclusions.\n",
    "\n",
    "4. Confidence intervals: When constructing confidence intervals for population parameters (e.g., mean), the t-distribution is used instead of the normal distribution when the sample size is small or the population standard deviation is unknown. The t-distribution accounts for the increased uncertainty due to the limited sample size.\n",
    "\n",
    "It's important to note that as the sample size increases, the t-distribution converges to the standard normal distribution. Therefore, when dealing with larger sample sizes (typically above 30) and known population standard deviation, the use of the t-distribution becomes less necessary, and the standard normal distribution can be used instead.\n",
    "\n",
    "Therefore, the t-distribution is a valuable tool in statistical inference when working with small sample sizes and unknown population standard deviations, providing a more appropriate distribution for making accurate inferences."
   ]
  },
  {
   "cell_type": "markdown",
   "id": "1918fd22-ce4d-41df-8e2a-e271086d4d9b",
   "metadata": {},
   "source": [
    "**Q12: What is t-statistic? State the formula for t-statistic.**"
   ]
  },
  {
   "cell_type": "markdown",
   "id": "f00ca444-9dec-4852-88e3-c3019bfc3c9c",
   "metadata": {},
   "source": [
    "The t-statistic is a measure that quantifies the difference between a sample mean and a hypothesized population mean in terms of standard errors. It is used in hypothesis testing to determine the significance of the difference between sample means or to estimate the population mean when the population standard deviation is unknown.\n",
    "\n",
    "The formula for calculating the t-statistic depends on the specific context and type of test being performed. Here are the formulas for commonly used scenarios:\n",
    "\n",
    "1. One-sample t-test:\n",
    "   The one-sample t-test compares the mean of a single sample to a known or hypothesized population mean.\n",
    "\n",
    "   Formula for t-statistic:\n",
    "   t = (x - μ) / (s / √n)\n",
    "\n",
    "   where:\n",
    "   - x is the sample mean\n",
    "   - μ is the hypothesized population mean\n",
    "   - s is the sample standard deviation\n",
    "   - n is the sample size\n",
    "\n",
    "2. Independent two-sample t-test:\n",
    "   The independent two-sample t-test compares the means of two independent samples to determine if there is a significant difference between them.\n",
    "\n",
    "   Formula for t-statistic:\n",
    "   t = (x1 - x2) / √((s1^2 / n1) + (s2^2 / n2))\n",
    "\n",
    "   where:\n",
    "   - x1 and x2 are the means of the two samples\n",
    "   - s1 and s2 are the standard deviations of the two samples\n",
    "   - n1 and n2 are the sample sizes of the two samples\n",
    "\n",
    "3. Paired two-sample t-test:\n",
    "   The paired two-sample t-test compares the means of two dependent or paired samples, typically collected from the same subjects before and after an intervention.\n",
    "\n",
    "   Formula for t-statistic:\n",
    "   t = (x̄d - μd) / (sd / √n)\n",
    "\n",
    "   where:\n",
    "   - x̄d is the mean of the differences between paired observations\n",
    "   - μd is the hypothesized population mean difference\n",
    "   - sd is the standard deviation of the differences\n",
    "   - n is the number of paired observations\n",
    "\n",
    "In all cases, the t-statistic measures the difference between the sample means relative to the variation or standard errors within the samples. It is then compared to critical values from the t-distribution or used to calculate p-values to assess the statistical significance of the difference."
   ]
  },
  {
   "cell_type": "markdown",
   "id": "f4eca48c-2cd0-4132-bb40-29857a5399df",
   "metadata": {},
   "source": [
    "**Q13. A coffee shop owner wants to estimate the average daily revenue for their shop. They take a random\n",
    "sample of 50 days and find the sample mean revenue to be 500 with a standard deviation of 50.\n",
    "Estimate the population mean revenue with a 95% confidence interval.**"
   ]
  },
  {
   "cell_type": "markdown",
   "id": "7717aaf8-0c0b-4cf1-b8dc-20cd5a2c2ad7",
   "metadata": {},
   "source": [
    "To estimate the population mean revenue with a 95% confidence interval, we can use the formula:\n",
    "\n",
    "Confidence Interval = Sample Mean ± (Critical Value) * (Standard Deviation / √Sample Size)\n",
    "\n",
    " given:\n",
    "- Sample Mean (x̄) = 500\n",
    "- Standard Deviation (σ) = 50\n",
    "- Sample Size (n) = 50\n",
    "- C.I.=95%=0.95\n",
    "- λ=1-0.95=0.05\n",
    "\n",
    "\n",
    "First, we need to determine the critical value for a 95% confidence level. Since the sample size is relatively large (n > 30), we can use the critical value from the standard normal distribution, which corresponds to a 95% confidence level (z-value). The z-value for a 95% confidence level is approximately 1.96.\n",
    "\n",
    "Now we can calculate the confidence interval:\n",
    "\n",
    "Confidence Interval = 500 ± (1.96) * (50 / √50)\n",
    "\n",
    "Calculating the values:\n",
    "Standard Error (SE) = Standard Deviation / √Sample Size\n",
    "SE = 50 / √50 ≈ 7.07\n",
    "\n",
    "Confidence Interval = 500 ± (1.96) * 7.07\n",
    "Confidence Interval ≈ 500 ± 13.88\n",
    "\n",
    "Therefore, the 95% confidence interval for the average daily revenue is approximately (486.12, 513.88). This means that we can be 95% confident that the true population mean revenue falls within this range based on the given sample data."
   ]
  },
  {
   "cell_type": "markdown",
   "id": "838f71aa-9a9f-4716-8e5d-2174c4610633",
   "metadata": {},
   "source": [
    "**Q14. A researcher hypothesizes that a new drug will decrease blood pressure by 10 mmHg. They conduct a clinical trial with 100 patients and find that the sample mean decrease in blood pressure is 8 mmHg with a standard deviation of 3 mmHg. Test the hypothesis with a significance level of 0.05.**"
   ]
  },
  {
   "cell_type": "markdown",
   "id": "cbd125db-dc39-46f6-b63f-58b4ef64f39f",
   "metadata": {},
   "source": [
    "To test the hypothesis that the new drug decreases blood pressure by 10 mmHg, we can perform a one-sample t-test. The null hypothesis (H0) is that the true mean decrease in blood pressure is equal to 10 mmHg, while the alternative hypothesis (H1) is that the true mean decrease is different from 10 mmHg.\n",
    "\n",
    "Given the following information:\n",
    "- Sample Mean (x̄) = 8 mmHg\n",
    "- Standard Deviation (s) = 3 mmHg\n",
    "- Sample Size (n) = 100\n",
    "- Hypothesized Mean (μ) = 10 mmHg\n",
    "- Significance Level (alpha) = 0.05\n",
    "\n",
    "We will calculate the t-statistic and compare it to the critical t-value to determine if we reject or fail to reject the null hypothesis.\n",
    "\n",
    "The formula for the t-statistic in a one-sample t-test is:\n",
    "t = (x̄ - μ) / (s / √n)\n",
    "\n",
    "Calculating the t-statistic:\n",
    "t = (8 - 10) / (3 / √100)\n",
    "t = -2 / (3 / 10)\n",
    "t ≈ -2.222\n",
    "\n",
    "To determine the critical t-value, we need to consider the degrees of freedom (df) for the test. Since we have a sample size of 100, the degrees of freedom is 100 - 1 = 99. With a significance level of 0.05 and a two-tailed test, we divide the significance level by 2 and look up the critical t-value in the t-distribution table or use statistical software. For a significance level of 0.025 and 99 degrees of freedom, the critical t-value is approximately ±1.984.\n",
    "\n",
    "Since the absolute value of the calculated t-statistic (2.222) is greater than the critical t-value (1.984) at the 0.05 significance level, we can reject the null hypothesis.\n",
    "\n",
    "Therefore, based on the given sample data, there is evidence to suggest that the new drug has a statistically significant effect on decreasing blood pressure, different from the hypothesized value of 10 mmHg."
   ]
  },
  {
   "cell_type": "markdown",
   "id": "9aea8ea2-54e6-4d5a-824f-876fef45ced7",
   "metadata": {},
   "source": [
    "**Q15. An electronics company produces a certain type of product with a mean weight of 5 pounds and a standard deviation of 0.5 pounds. A random sample of 25 products is taken, and the sample mean weight is found to be 4.8 pounds. Test the hypothesis that the true mean weight of the products is less than 5 pounds with a significance level of 0.01.**"
   ]
  },
  {
   "cell_type": "markdown",
   "id": "6fb2600e-0c42-455d-9630-370f81e62efe",
   "metadata": {},
   "source": [
    "To test the hypothesis that the true mean weight of the products is less than 5 pounds, we can perform a one-sample t-test. The null hypothesis (H0) is that the true mean weight is equal to 5 pounds, while the alternative hypothesis (H1) is that the true mean weight is less than 5 pounds.\n",
    "\n",
    "Given the following information:\n",
    "- Sample Mean (x̄) = 4.8 pounds\n",
    "- Standard Deviation (σ) = 0.5 pounds\n",
    "- Sample Size (n) = 25\n",
    "- Hypothesized Mean (μ) = 5 pounds\n",
    "- Significance Level (alpha) = 0.01\n",
    "\n",
    "We will calculate the t-statistic and compare it to the critical t-value to determine if we reject or fail to reject the null hypothesis.\n",
    "\n",
    "The formula for the t-statistic in a one-sample t-test is:\n",
    "t = (x̄ - μ) / (s / √n)\n",
    "\n",
    "Calculating the t-statistic:\n",
    "t = (4.8 - 5) / (0.5 / √25)\n",
    "t = -0.2 / (0.5 / 5)\n",
    "t = -0.2 / 0.1\n",
    "t = -2\n",
    "\n",
    "To determine the critical t-value, we need to consider the degrees of freedom (df) for the test. Since we have a sample size of 25, the degrees of freedom is 25 - 1 = 24. With a significance level of 0.01 and a one-tailed test (since we are testing for a decrease in mean weight), we look up the critical t-value in the t-distribution table or use statistical software. For a significance level of 0.01 and 24 degrees of freedom, the critical t-value is approximately -2.492.\n",
    "\n",
    "Since the calculated t-statistic (-2) is smaller (in the critical region) than the critical t-value (-2.492) at the 0.01 significance level, we can reject the null hypothesis.\n",
    "\n",
    "Therefore, based on the given sample data, there is evidence to suggest that the true mean weight of the products is less than 5 pounds, with statistical significance at the 0.01 level."
   ]
  },
  {
   "cell_type": "markdown",
   "id": "c444db28-c432-4469-b3bb-e293fc95d2d3",
   "metadata": {},
   "source": [
    "**Q16. Two groups of students are given different study materials to prepare for a test. The first group (n1 = 30) has a mean score of 80 with a standard deviation of 10, and the second group (n2 = 40) has a mean score of 75 with a standard deviation of 8. Test the hypothesis that the population means for the two groups are equal with a significance level of 0.01.**"
   ]
  },
  {
   "cell_type": "markdown",
   "id": "5cd7ca64-d464-4d72-b4ad-98f4b1549832",
   "metadata": {},
   "source": [
    "To test the hypothesis that the population means for the two groups are equal, we can perform an independent two-sample t-test. The null hypothesis (H0) is that the population means are equal, while the alternative hypothesis (H1) is that the population means are different.\n",
    "\n",
    "Given the following information for Group 1:\n",
    "- Sample Size (n1) = 30\n",
    "- Sample Mean (x̄1) = 80\n",
    "- Standard Deviation (s1) = 10\n",
    "\n",
    "And the following information for Group 2:\n",
    "- Sample Size (n2) = 40\n",
    "- Sample Mean (x̄2) = 75\n",
    "- Standard Deviation (s2) = 8\n",
    "\n",
    "We will calculate the t-statistic and compare it to the critical t-value to determine if we reject or fail to reject the null hypothesis.\n",
    "\n",
    "The formula for the t-statistic in an independent two-sample t-test is:\n",
    "t = (x̄1 - x̄2) / √((s1^2 / n1) + (s2^2 / n2))\n",
    "\n",
    "Calculating the t-statistic:\n",
    "t = (80 - 75) / √((10^2 / 30) + (8^2 / 40))\n",
    "t = 5 / √((100/30) + (64/40))\n",
    "t = 5 / √(3.33 + 1.6)\n",
    "t = 5 / √4.93\n",
    "t ≈ 5 / 2.22\n",
    "t ≈ 2.25\n",
    "\n",
    "To determine the critical t-value, we need to consider the degrees of freedom (df) for the test. The degrees of freedom can be calculated using the formula:\n",
    "df = (s1^2 / n1 + s2^2 / n2)^2 / [(s1^2 / n1)^2 / (n1 - 1) + (s2^2 / n2)^2 / (n2 - 1)]\n",
    "\n",
    "Calculating the degrees of freedom:\n",
    "df = [(10^2 / 30 + 8^2 / 40)^2] / [((10^2 / 30)^2 / (30 - 1)) + ((8^2 / 40)^2 / (40 - 1))]\n",
    "df ≈ [(3.33 + 1.6)^2] / [((3.33^2 / 29) + (1.6^2 / 39))]\n",
    "df ≈ [4.93^2] / [(0.376 + 0.104)]\n",
    "df ≈ 24.304 / 0.48\n",
    "df ≈ 50.59\n",
    "\n",
    "With a significance level of 0.01 and 50.59 degrees of freedom, we look up the critical t-value in the t-distribution table or use statistical software. For a significance level of 0.01 and 50.59 degrees of freedom, the critical t-value is approximately ±2.677.\n",
    "\n",
    "Since the absolute value of the calculated t-statistic (2.25) is smaller than the critical t-value (2.677) at the 0.01 significance level, we fail to reject the null hypothesis.\n",
    "\n",
    "Therefore, based on the given sample data, there is not enough evidence to suggest that the population means for the two groups are different at the 0.01 significance level."
   ]
  },
  {
   "cell_type": "markdown",
   "id": "eb71f7a1-e354-4dce-a996-aa5d72eafab5",
   "metadata": {},
   "source": [
    "**Q17. A marketing company wants to estimate the average number of ads watched by viewers during a TV program. They take a random sample of 50 viewers and find that the sample mean is 4 with a standard deviation of 1.5. Estimate the population mean with a 99% confidence interval.**"
   ]
  },
  {
   "cell_type": "markdown",
   "id": "161f1d4a-a500-41be-b07e-1e4777cd20fa",
   "metadata": {},
   "source": [
    "To estimate the population mean with a 99% confidence interval, we can use the formula:\n",
    "\n",
    "Confidence Interval = Sample Mean ± (Critical Value) * (Standard Deviation / √Sample Size)\n",
    "\n",
    "Given the following information:\n",
    "- Sample Mean (x̄) = 4\n",
    "- Standard Deviation (σ) = 1.5\n",
    "- Sample Size (n) = 50\n",
    "\n",
    "First, we need to determine the critical value for a 99% confidence level. Since the sample size is relatively large (n > 30), we can use the critical value from the standard normal distribution, which corresponds to a 99% confidence level (z-value). The z-value for a 99% confidence level is approximately 2.576.\n",
    "\n",
    "Now we can calculate the confidence interval:\n",
    "\n",
    "Confidence Interval = 4 ± (2.576) * (1.5 / √50)\n",
    "\n",
    "Calculating the values:\n",
    "Standard Error (SE) = Standard Deviation / √Sample Size\n",
    "SE = 1.5 / √50 ≈ 0.2121\n",
    "\n",
    "Confidence Interval = 4 ± (2.576) * 0.2121\n",
    "Confidence Interval ≈ 4 ± 0.5461\n",
    "\n",
    "Therefore, the 99% confidence interval for the average number of ads watched by viewers during the TV program is approximately (3.4539, 4.5461). This means that we can be 99% confident that the true population mean falls within this range based on the given sample data."
   ]
  },
  {
   "cell_type": "markdown",
   "id": "58ce7f49-02f0-4768-b8c2-1597b7006907",
   "metadata": {},
   "source": [
    "------------"
   ]
  },
  {
   "cell_type": "code",
   "execution_count": null,
   "id": "e5a0dc9e-7045-43f0-ae3b-9f0b98aac612",
   "metadata": {},
   "outputs": [],
   "source": []
  }
 ],
 "metadata": {
  "kernelspec": {
   "display_name": "Python 3 (ipykernel)",
   "language": "python",
   "name": "python3"
  },
  "language_info": {
   "codemirror_mode": {
    "name": "ipython",
    "version": 3
   },
   "file_extension": ".py",
   "mimetype": "text/x-python",
   "name": "python",
   "nbconvert_exporter": "python",
   "pygments_lexer": "ipython3",
   "version": "3.10.8"
  }
 },
 "nbformat": 4,
 "nbformat_minor": 5
}
